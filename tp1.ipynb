{
  "nbformat": 4,
  "nbformat_minor": 0,
  "metadata": {
    "colab": {
      "provenance": [],
      "gpuType": "T4",
      "mount_file_id": "1iTkV8Y8DDw6Y1uUaKJwNn9RQyLYeReht",
      "authorship_tag": "ABX9TyPKaEwpDpZ0uSfNX3JapL7c",
      "include_colab_link": true
    },
    "kernelspec": {
      "name": "python3",
      "display_name": "Python 3"
    },
    "language_info": {
      "name": "python"
    },
    "accelerator": "GPU"
  },
  "cells": [
    {
      "cell_type": "markdown",
      "metadata": {
        "id": "view-in-github",
        "colab_type": "text"
      },
      "source": [
        "<a href=\"https://colab.research.google.com/github/Oussama-Aouina/Booky/blob/main/tp1.ipynb\" target=\"_parent\"><img src=\"https://colab.research.google.com/assets/colab-badge.svg\" alt=\"Open In Colab\"/></a>"
      ]
    },
    {
      "cell_type": "code",
      "execution_count": null,
      "metadata": {
        "id": "Qc_C_QH-1T3F"
      },
      "outputs": [],
      "source": []
    },
    {
      "cell_type": "code",
      "source": [
        "from google.colab import drive\n",
        "drive.mount('/content/drive')"
      ],
      "metadata": {
        "colab": {
          "base_uri": "https://localhost:8080/"
        },
        "id": "tzDNSOcs1ic2",
        "outputId": "ca3a88ee-b135-40a1-8d5c-dc036dcc05b9"
      },
      "execution_count": 1,
      "outputs": [
        {
          "output_type": "stream",
          "name": "stdout",
          "text": [
            "Drive already mounted at /content/drive; to attempt to forcibly remount, call drive.mount(\"/content/drive\", force_remount=True).\n"
          ]
        }
      ]
    },
    {
      "cell_type": "code",
      "source": [
        "%%writefile hello.c\n",
        "#include <stdio.h>\n",
        "#include <stdlib.h>\n",
        "\n",
        "\n",
        "int main(){\n",
        "    int n;\n",
        "    printf(\"Entrez un nombre entier : \");\n",
        "    scanf(\"%d\", &n);\n",
        "    printf(\"le nombre entré est:%d\", n);\n",
        "    return 0;\n",
        "}"
      ],
      "metadata": {
        "colab": {
          "base_uri": "https://localhost:8080/"
        },
        "id": "eWF0GZdW35yd",
        "outputId": "e19d99cb-87ce-4b71-961c-b55e681bfc42"
      },
      "execution_count": 3,
      "outputs": [
        {
          "output_type": "stream",
          "name": "stdout",
          "text": [
            "Overwriting hello.c\n"
          ]
        }
      ]
    },
    {
      "cell_type": "code",
      "source": [
        "!nvcc hello.c -o hello"
      ],
      "metadata": {
        "id": "8jLD4Idh5ORx"
      },
      "execution_count": 5,
      "outputs": []
    },
    {
      "cell_type": "code",
      "source": [
        "!./hello"
      ],
      "metadata": {
        "colab": {
          "base_uri": "https://localhost:8080/"
        },
        "id": "P3EhN8RP5W7o",
        "outputId": "d100df81-c4e6-4549-96d7-615bff788c11"
      },
      "execution_count": 6,
      "outputs": [
        {
          "output_type": "stream",
          "name": "stdout",
          "text": [
            "Entrez un nombre entier : 6\n",
            "le nombre entré est:6"
          ]
        }
      ]
    },
    {
      "cell_type": "code",
      "source": [
        "%%writefile hello.cu\n",
        "#include <stdio.h>\n",
        "#include <stdlib.h>\n",
        "\n",
        "\n",
        "__global__ void main(){\n",
        "    int n;\n",
        "    printf(\"Entrez un nombre entier : \");\n",
        "    scanf(\"%d\", &n);\n",
        "    printf(\"le nombre entré est:%d\", n);\n",
        "    return 0;\n",
        "}"
      ],
      "metadata": {
        "colab": {
          "base_uri": "https://localhost:8080/"
        },
        "id": "9Drp8s_y6kfR",
        "outputId": "f17f99db-b7b4-46f2-8122-8231e2317ff1"
      },
      "execution_count": 10,
      "outputs": [
        {
          "output_type": "stream",
          "name": "stdout",
          "text": [
            "Overwriting hello.cu\n"
          ]
        }
      ]
    },
    {
      "cell_type": "code",
      "source": [
        "!nvcc hello.cu -o hello2"
      ],
      "metadata": {
        "colab": {
          "base_uri": "https://localhost:8080/"
        },
        "id": "t1OStj6o6rGN",
        "outputId": "1cd191fe-2886-48f3-a010-8ab7c6537a8c"
      },
      "execution_count": 11,
      "outputs": [
        {
          "output_type": "stream",
          "name": "stdout",
          "text": [
            "\u001b[01m\u001b[0m\u001b[01mhello.cu(5)\u001b[0m: \u001b[01;35mwarning\u001b[0m #951-D: return type of function \"main\" must be \"int\"\n",
            "  __attribute__((global)) void main(){\n",
            "                               ^\n",
            "\n",
            "\u001b[01;36m\u001b[0m\u001b[01;36mRemark\u001b[0m: The warnings can be suppressed with \"-diag-suppress <warning-number>\"\n",
            "\n",
            "\u001b[01m\u001b[0m\u001b[01mhello.cu(5)\u001b[0m: \u001b[01;31merror\u001b[0m: function main cannot be marked __device__ or __global__\n",
            "  __attribute__((global)) void main(){\n",
            "                 ^\n",
            "\n",
            "\u001b[01m\u001b[0m\u001b[01mhello.cu(10)\u001b[0m: \u001b[01;31merror\u001b[0m: return value type does not match the function type\n",
            "      return 0;\n",
            "             ^\n",
            "\n",
            "2 errors detected in the compilation of \"hello.cu\".\n"
          ]
        }
      ]
    },
    {
      "cell_type": "code",
      "source": [
        "!./hello2"
      ],
      "metadata": {
        "colab": {
          "base_uri": "https://localhost:8080/"
        },
        "id": "zsCpr1426yQu",
        "outputId": "427b40a5-fa7d-4efd-843c-c9f1c429a94b"
      },
      "execution_count": 9,
      "outputs": [
        {
          "output_type": "stream",
          "name": "stdout",
          "text": [
            "Entrez un nombre entier : 4\n",
            "le nombre entré est:4"
          ]
        }
      ]
    },
    {
      "cell_type": "code",
      "source": [],
      "metadata": {
        "id": "VAFSc8Ef_JqP"
      },
      "execution_count": null,
      "outputs": []
    },
    {
      "cell_type": "code",
      "source": [
        "%%writefile hello.cu\n",
        "#include <stdio.h>\n",
        "#include <stdlib.h>\n",
        "#include <cuda.h>\n",
        "\n",
        "__global__ void affiche(){\n",
        "\n",
        "    printf(\"bonjour\");\n",
        "\n",
        "}\n",
        "int main (void){\n",
        "    affiche <<<2,2>>>(); //grid.x -> le numero de thread / grid.y -> le numero de bloc\n",
        "    cudaDeviceSynchronize(); // synchronisation entre le cpu et le gpu\n",
        "    return 0;\n",
        "}\n"
      ],
      "metadata": {
        "colab": {
          "base_uri": "https://localhost:8080/"
        },
        "id": "590fNr8N71U-",
        "outputId": "0e8a86f5-73bf-4448-829d-9d06c336ba95"
      },
      "execution_count": 24,
      "outputs": [
        {
          "output_type": "stream",
          "name": "stdout",
          "text": [
            "Overwriting hello.cu\n"
          ]
        }
      ]
    },
    {
      "cell_type": "code",
      "source": [
        "!nvcc hello.cu -o hello3"
      ],
      "metadata": {
        "id": "ueK2QAjO8SxJ"
      },
      "execution_count": 25,
      "outputs": []
    },
    {
      "cell_type": "code",
      "source": [
        "!./hello3"
      ],
      "metadata": {
        "colab": {
          "base_uri": "https://localhost:8080/"
        },
        "id": "ePNj1Tdn8ly2",
        "outputId": "b4afb451-8a4f-4e30-ba9e-b88ca27b6029"
      },
      "execution_count": 26,
      "outputs": [
        {
          "output_type": "stream",
          "name": "stdout",
          "text": [
            "bonjourbonjourbonjourbonjour"
          ]
        }
      ]
    },
    {
      "cell_type": "code",
      "source": [
        "%%writefile ex2.c\n",
        "#include <cuda.h>\n",
        "#include <device_launch_parameters.h>\n",
        "#include <cuda_device_runtime_api.h>\n",
        "#include <cuda_runtime_api.h>\n",
        "#include <stdio.h>\n",
        "#include<stdlib.h>\n",
        "#define N 12\n",
        "\n",
        "\n",
        "int add(int *a, int *b, int *c)\n",
        "{\n",
        "    for (int i=0;i<N;i++)\n",
        "    c[i] = a[i] + b[i];\n",
        "\n",
        " }\n",
        "\n",
        "void charger(int* a)\n",
        "{\n",
        "   int i;\n",
        "   for (i = 0; i < N; ++i)\n",
        "    a[i] = i;\n",
        "}\n",
        "\n",
        "\n",
        "int main(void)\n",
        "{\n",
        "    int *a, *b, *c;  // host copies of a, b, c\n",
        "\n",
        "    a = (int *)malloc(N*sizeof(int));\n",
        "    charger(a);\n",
        "    b = (int *)malloc(N*sizeof(int));\n",
        "    charger(b);\n",
        "    c = (int *)malloc(N*sizeof(int));\n",
        "\n",
        "    add(a,b,c);\n",
        "\n",
        "    for (int i=0;i<N;i++)\n",
        "      printf(\"%d |\", c[i]);\n",
        "      //cleanup\n",
        "      free(a);\n",
        "      free(b);\n",
        "      free(c);\n",
        "\n",
        " return 0;\n",
        "}"
      ],
      "metadata": {
        "colab": {
          "base_uri": "https://localhost:8080/"
        },
        "id": "dvb1OAXlDpix",
        "outputId": "cf2759c0-5bef-44c1-f453-b46812aae70f"
      },
      "execution_count": 31,
      "outputs": [
        {
          "output_type": "stream",
          "name": "stdout",
          "text": [
            "Overwriting ex2.c\n"
          ]
        }
      ]
    },
    {
      "cell_type": "code",
      "source": [
        "!nvcc ex2.c -o ex2"
      ],
      "metadata": {
        "id": "Ab9gOuD1EHEg"
      },
      "execution_count": 32,
      "outputs": []
    },
    {
      "cell_type": "code",
      "source": [
        "!./ex2"
      ],
      "metadata": {
        "colab": {
          "base_uri": "https://localhost:8080/"
        },
        "id": "8KG1LO3MELhL",
        "outputId": "66cb9694-f5d7-46ac-e6f3-77e660d24494"
      },
      "execution_count": 33,
      "outputs": [
        {
          "output_type": "stream",
          "name": "stdout",
          "text": [
            "0 |2 |4 |6 |8 |10 |12 |14 |16 |18 |20 |22 |"
          ]
        }
      ]
    },
    {
      "cell_type": "code",
      "source": [
        "%%writefile ex2.cu\n",
        "#include <cuda.h>\n",
        "#include <device_launch_parameters.h>\n",
        "#include <cuda_device_runtime_api.h>\n",
        "#include <cuda_runtime_api.h>\n",
        "#include <stdio.h>\n",
        "#include<stdlib.h>\n",
        "#define N 12\n",
        "//using namespace std;\n",
        "\n",
        "__global__ void add(int *a, int *b, int *c)\n",
        "{\n",
        "    //for (int i=0;i<N;i++)\n",
        "    c[blockIdx.x] = a[blockIdx.x] + b[blockIdx.x];//pour le bloc thread on peut ecrire threadIdx a la place de blockIdx.x\n",
        " }\n",
        "\n",
        "void charger(int* a)\n",
        "{\n",
        "   int i;\n",
        "   for (i = 0; i < N; ++i)\n",
        "    a[i] = i;\n",
        "}\n",
        "\n",
        "\n",
        "int main(void)\n",
        "{\n",
        "    int *a, *b, *c;  // host(CPU) copies of a, b, c\n",
        "    int *d_a,*d_b,*d_c; // device(GPU) copies of a, b, c\n",
        "    int size=N*sizeof(int);\n",
        "    // alloc spaces for device copies of a b and c\n",
        "    cudaMalloc((void**)&d_a,size);\n",
        "    cudaMalloc((void**)&d_b,size);\n",
        "    cudaMalloc((void**)&d_c,size);\n",
        "    a = (int *)malloc(N*sizeof(int));\n",
        "    charger(a);\n",
        "    b = (int *)malloc(N*sizeof(int));\n",
        "    charger(b);\n",
        "    c = (int *)malloc(N*sizeof(int));\n",
        "    // copy inputs from host to device\n",
        "    cudaMemcpy(d_a,a,size,cudaMemcpyHostToDevice);\n",
        "    cudaMemcpy(d_b,b,size,cudaMemcpyHostToDevice);\n",
        "\n",
        "    add<<<N,1>>>(d_a,d_b,d_c);\n",
        "    // copy output from device to host\n",
        "    cudaMemcpy(c,d_c,size,cudaMemcpyDeviceToHost);\n",
        "\n",
        "    for (int i=0;i<N;i++)\n",
        "      printf(\"%d |\", c[i]);\n",
        "\n",
        "    free(a);\n",
        "    free(b);\n",
        "    free(c);\n",
        "    cudaFree(d_a);\n",
        "    cudaFree(d_b);\n",
        "    cudaFree(d_c);\n",
        "\n",
        " return 0;\n",
        "}"
      ],
      "metadata": {
        "colab": {
          "base_uri": "https://localhost:8080/"
        },
        "id": "5ZpeJyYKFmZW",
        "outputId": "676a0fe0-7431-45c9-88a5-e690590e923e"
      },
      "execution_count": 1,
      "outputs": [
        {
          "output_type": "stream",
          "name": "stdout",
          "text": [
            "Writing ex2.cu\n"
          ]
        }
      ]
    },
    {
      "cell_type": "code",
      "source": [
        "!nvcc ex2.cu -o ex2cu"
      ],
      "metadata": {
        "id": "a_HQ2YVNFz0M"
      },
      "execution_count": 2,
      "outputs": []
    },
    {
      "cell_type": "code",
      "source": [
        "!./ex2cu"
      ],
      "metadata": {
        "colab": {
          "base_uri": "https://localhost:8080/"
        },
        "id": "SbrtnqcOF5X5",
        "outputId": "908bfdf7-d8db-4e09-989d-be3a6453bb69"
      },
      "execution_count": 3,
      "outputs": [
        {
          "output_type": "stream",
          "name": "stdout",
          "text": [
            "0 |2 |4 |6 |8 |10 |12 |14 |16 |18 |20 |22 |"
          ]
        }
      ]
    },
    {
      "cell_type": "markdown",
      "source": [],
      "metadata": {
        "id": "vMFdsnJpLtRx"
      }
    }
  ]
}